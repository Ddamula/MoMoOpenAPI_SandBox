{
 "cells": [
  {
   "cell_type": "markdown",
   "metadata": {},
   "source": [
    "# <b>Jupyter Note book MoMo Open API SandBox</b>"
   ]
  },
  {
   "cell_type": "markdown",
   "metadata": {},
   "source": [
    "1. [Initialization](#initialization)\n",
    "2. [Authorization](#authorization)\n",
    "3. [Get Paid](#get-paid)\n",
    "4. [Fetch Customer Details KYC](#fetch-customer-details-kyc)\n",
    "5. [Pay](#pay)\n",
    "6. [Distribute](#distribute)\n",
    "7. [Invoice](#invoice)"
   ]
  },
  {
   "cell_type": "markdown",
   "metadata": {},
   "source": [
    "## <b>Intialization</b>"
   ]
  },
  {
   "cell_type": "code",
   "execution_count": 141,
   "metadata": {},
   "outputs": [],
   "source": [
    "from datetime import datetime\n",
    "global Api_User \n",
    "global Api_Key \n",
    "GetPaid_Debit_Request_Ref_ID = \"\" #UUID String Request Reference \n",
    "Pay_Transfer_Request_Ref_ID = \"\" #UUID String Request Reference\n",
    "CashIn_Request_Ref_ID = \"\" #UUID String Request Reference\n",
    "CashOut_Request_Ref_ID = \"\" #UUID String Request Reference\n",
    "Invoice_Request_Ref_ID = \"\" #UUID String Request Reference\n",
    "Invoice_Delete_Request_Ref_ID = \"\" #UUID String Request Reference\n",
    "Token=\"\"\n",
    "Token_expiry_time = \"\"\n",
    "Token_expired = False\n",
    "Token_expiry_time = datetime.now()\n",
    "Environment = \"sandbox\" #Target Environment  \n",
    "Collection_Subscription_Primary_Key  = \"4c91dae7a6f1474387a23a1f3d448eb7\"#Primary Key for Collection Subscription.https://momodeveloper.mtn.com/profile\n",
    "Disbursement_Subscription_Primary_Key  = \"dec90f29f4e14137912bfc3236d51cbe\"#Primary Key for Disbursement Subscription.https://momodeveloper.mtn.com/profile\n",
    "Base_Url = \"https://sandbox.momodeveloper.mtn.com\" #SandBox Base URL"
   ]
  },
  {
   "cell_type": "markdown",
   "metadata": {},
   "source": [
    "#### <b>timer-wait-time funtion</b>"
   ]
  },
  {
   "cell_type": "code",
   "execution_count": 95,
   "metadata": {
    "tags": [
     "timer-wait-time"
    ]
   },
   "outputs": [],
   "source": [
    "import time\n",
    "\n",
    "def countdown(seconds):\n",
    "    while seconds >= 1:\n",
    "        print(str(seconds), end= ':')\n",
    "        time.sleep(1)\n",
    "        seconds -= 1\n",
    "    print(\"0\")\n",
    "\n"
   ]
  },
  {
   "cell_type": "markdown",
   "metadata": {},
   "source": [
    "## <b>Authorization</b>"
   ]
  },
  {
   "cell_type": "markdown",
   "metadata": {},
   "source": [
    "\n",
    "1. [Creating API User on the SandBox](#creating-api-user-on-the-sandbox)\n",
    "2. [Creating the API Key (Password) For the API USER Created SandBox](#creating-the-api-key-password-for-the-api-user-created-sandbox)\n",
    "3. [Generate Access Bearer Token](#generate-access-bearer-token)\n",
    "4. [Bearer Token expiry validation function](#bearer-token-expiry-validation-function)"
   ]
  },
  {
   "cell_type": "markdown",
   "metadata": {},
   "source": [
    "### <b>Creating API User on the SandBox</b>"
   ]
  },
  {
   "cell_type": "code",
   "execution_count": 96,
   "metadata": {},
   "outputs": [],
   "source": [
    "#Function to create an API User (Username) from The MoMo OpenAPI SandBox\n",
    "def Create_API_User_SandBox():\n",
    "    import requests as rq\n",
    "    import uuid\n",
    "    global Api_User\n",
    "    global Collection_Subscription_Primary_Key\n",
    "    Api_User = str(uuid.uuid4())\n",
    "    url = Base_Url+\"/v1_0/apiuser\"\n",
    "    headers = {\n",
    "    \"X-Reference-Id\": Api_User, #When creating Api user, the X Reference Id in the header will be created as the user. \n",
    "    \"Ocp-Apim-Subscription-Key\": Collection_Subscription_Primary_Key,\n",
    "    \"Content-Type\": \"application/json\"\n",
    "    }\n",
    "    body = {    \n",
    "    \"providerCallbackHost\": \"webhook.site\" # If your callback is https://webhook.site/mycallback/site then the providerCallbackHost is webhook.site\n",
    "    }\n",
    "    try:\n",
    "        resp = rq.request(\"post\", url, json=body, headers=headers)\n",
    "        if(str(resp.status_code)==\"201\"):\n",
    "            print(\"HTTP Status Code:\"+str(resp.status_code)+\"\\n Api user Created: \"+Api_User)\n",
    "        elif(str(resp.status_code)==\"401\"):\n",
    "            print(str(resp.status_code)+\" \"+resp.text+\" \")\n",
    "            print(\"Ensure the subscription key is the primary\")\n",
    "        elif(str(resp.status_code)==\"400\"):\n",
    "            print(str(resp.status_code)+\" \"+resp.text+\" \")\n",
    "            print(\"Ensure API User(X-Reference-Id) in the Headers is UUID Version 4\")\n",
    "            print(\"Ensure the Body contains the correct syntax \"\"\\\"providerCallbackHost\"\"\\\"\"+\":\"+\"Your CallBack URL HOST Eg \"\"\\\"webhook.site\"\"\\\"\")\n",
    "        else:\n",
    "            print(str(resp.status_code)+\" \"+resp.text+\" \")\n",
    "    except TypeError:\n",
    "        print(\"Body of the Request has to be Json Format\")\n",
    "    except:\n",
    "        print(\"Something Is Wrong \"+resp.json)\n",
    "#Create_API_User_SandBox()        "
   ]
  },
  {
   "cell_type": "markdown",
   "metadata": {},
   "source": [
    "### <b>Creating the API Key (Password) For the API USER Created SandBox  {{Api_User}}</b>\n",
    "\n",
    "To interact with the MoMo API, you need to create an API User and an API Key. These credentials are essential for authenticating your requests to the API.\n",
    "\n",
    "#### Steps to Create API User:\n",
    "1. **Generate a Unique User ID**: Use a UUID to generate a unique user ID.\n",
    "2. **Send POST Request**: Send a POST request to the MoMo API to create the API User.\n",
    "3. **Store the User ID**: Store the generated user ID for future use.\n",
    "\n",
    "#### Steps to Create API Key:\n",
    "1. **Use the Generated User ID**: Use the previously generated user ID to create an API Key.\n",
    "2. **Send POST Request**: Send a POST request to the MoMo API to create the API Key.\n",
    "3. **Store the API Key**: Store the generated API Key securely for future use.\n",
    "\n",
    "#### Example Usage:\n",
    "The `Create_API_User_SandBox` and `Create_API_Key_SandBox` functions in the provided code demonstrate how to create an API User and API Key, respectively."
   ]
  },
  {
   "cell_type": "code",
   "execution_count": 97,
   "metadata": {},
   "outputs": [],
   "source": [
    "#Function to create an API Key for the API User from The MoMo OpenAPI SandBox\n",
    "def Create_API_Key_SandBox():\n",
    "    import requests as rq\n",
    "    import traceback\n",
    "    global Api_Key\n",
    "    global Collection_Subscription_Primary_Key\n",
    "    url = Base_Url+\"/v1_0/apiuser/\"+Api_User+\"/apikey\"\n",
    "    headers = {\n",
    "    \"Ocp-Apim-Subscription-Key\": Collection_Subscription_Primary_Key,\n",
    "    }    \n",
    "    try:\n",
    "        resp = rq.request(\"post\", url, headers=headers)\n",
    "        if(str(resp.status_code)==\"201\"):\n",
    "            Response = resp.json()\n",
    "            Api_Key = Response.get('apiKey')#Save the API Key in Variable \n",
    "            print(\"HTTP Status Code:\"+str(resp.status_code)+\"\\n Api User:\"+str(Api_User) +\" Api Key:\"+str(Api_Key))\n",
    "        elif(str(resp.status_code)==\"400\"):\n",
    "            print(str(resp.status_code)+\" \"+resp.text+\" Validate the BaseURL \\n And Ensure API_User is created, by calling the function Create_API_User_SandBox()\")\n",
    "        elif(str(resp.status_code)==\"404\"):\n",
    "            print(str(resp.status_code)+\" \"+resp.text+\" API_USER was not created, Please Run function Create_API_User_SandBox()\")\n",
    "        else:\n",
    "            print(str(resp.status_code)+\" \"+resp.text+\" \")\n",
    "    except TypeError:\n",
    "        print(\"Body of the Request has to be Json Format or No Body\")\n",
    "    except:\n",
    "        print(\"Something Is Wrong \")\n",
    "        traceback.print_exc()      \n",
    "#Create_API_Key_SandBox()"
   ]
  },
  {
   "cell_type": "markdown",
   "metadata": {},
   "source": [
    "#### <b>Test the APIUser and Key funtion to create them</b>"
   ]
  },
  {
   "cell_type": "code",
   "execution_count": 98,
   "metadata": {},
   "outputs": [
    {
     "name": "stdout",
     "output_type": "stream",
     "text": [
      "HTTP Status Code:201\n",
      " Api user Created: 819472d9-c398-4cd4-a61d-f270d9e7d949\n",
      "HTTP Status Code:201\n",
      " Api User:819472d9-c398-4cd4-a61d-f270d9e7d949 Api Key:de4f4885c9a24c168127cf76e3277876\n"
     ]
    }
   ],
   "source": [
    "Create_API_User_SandBox() #Function create to create API User and store value in Variable {{Api_User}}\n",
    "Create_API_Key_SandBox() #Function to create API Key(Password) for the Api User Created and stored in variable {{Api_Key}}\n"
   ]
  },
  {
   "cell_type": "markdown",
   "metadata": {},
   "source": [
    "### <b>Generate Access Baerer Token</b><br>\n",
    "\n",
    "Bearer Token is generated using encoding API User and API Key in Base64. The token authenticates most API requests.\n",
    "\n",
    "#### Key Points:\n",
    "1. **Token Generation**: The token is generated by sending a POST request to the MoMo API with the API User and API Key.\n",
    "2. **Token Expiry**: Each token has an expiry time of 3600 seconds (1 hour) from the time of creation.\n",
    "3. **Token Renewal**: If the token has expired, a new token must be generated to ensure uninterrupted access to the API.\n",
    "\n",
    "#### Steps:\n",
    "1. **Check Token Status**: Before making API requests, check if the token has expired.\n",
    "2. **Generate New Token**: If the token has expired, generate a new token by sending a POST request to the MoMo API with the necessary headers and body.\n",
    "3. **Store Token and Expiry Time**: Store the generated token and its expiry time for future use.\n",
    "\n",
    "#### Example Usage:\n",
    "The `Get_Token` function in the provided code demonstrates how to generate a new token and set its expiry time."
   ]
  },
  {
   "cell_type": "code",
   "execution_count": 1,
   "metadata": {},
   "outputs": [],
   "source": [
    "#Function to generate Token and set Token expiry. \n",
    "def Get_Token():# function to return token (renews token if expired)\n",
    "    import requests as rq\n",
    "    import traceback\n",
    "    import json\n",
    "    from datetime import datetime, timedelta\n",
    "    global Token \n",
    "    global Token_expiry_time\n",
    "    EndPoint = Base_Url+\"/collection/token/\"\n",
    "    Auth = bytes(Api_User + ':' + Api_Key, \"utf-8\")\n",
    "    headers = {    \n",
    "    \"Ocp-Apim-Subscription-Key\": Collection_Subscription_Primary_Key,\n",
    "    }\n",
    "    try:\n",
    "        resp = rq.request(\"post\", EndPoint,auth=(Api_User,Api_Key), headers=headers)\n",
    "        Response = resp.json()\n",
    "        if(str(resp.status_code) == \"200\"):\n",
    "            Token = Response.get('access_token')\n",
    "            Token_expiry = Response.get('expires_in')\n",
    "            Token_expiry_time = datetime.now() + timedelta(seconds= int(Token_expiry)) #Track Token Expiry Time \n",
    "            print(\"New Token Generated Expiring at :\" +str(Token_expiry_time))           \n",
    "        elif(str(resp.status_code) == \"500\" or str(Response.get(\"error\"))==\"login_failed\"):\n",
    "            print(Response)\n",
    "            print(\"Ensure to Map the API User and API Key as (Username:Password) respectively\")\n",
    "        else:\n",
    "            print(resp.text)            \n",
    "    except:\n",
    "        print(\"Something Is Wrong \")\n",
    "        traceback.print_exc()  \n",
    "#Get_Token()"
   ]
  },
  {
   "cell_type": "markdown",
   "metadata": {},
   "source": [
    "### <b>Bearer Token expiry validation funtion</b><br>\n",
    "Bearer tokens are used to authenticate API requests. Each token has a limited lifespan, known as the expiry time. Once the token expires, it can no longer be used to authenticate requests, and a new token must be generated.\n",
    "\n",
    "#### Key Points:\n",
    "1. **Token Expiry Time**: The expiry time is typically specified in seconds from the time of token generation. For example, if a token has an expiry time of 3600 seconds, it will be valid for 1 hour from the time it was generated.\n",
    "2. **Token Expiry Validation**: It is important to validate the token's expiry before making API requests. If the token has expired, a new token should be generated to ensure uninterrupted access to the API.\n",
    "3. **Automatic Renewal**: Functions can be implemented to automatically check the token's expiry status and renew it if necessary. This ensures that the application always has a valid token for making API requests.\n",
    "\n",
    "#### Example:\n",
    "In the provided code, the `Token_Status` function checks the token's expiry status and generates a new token if the current token has expired. This ensures that the application always has a valid token for making API requests."
   ]
  },
  {
   "cell_type": "code",
   "execution_count": 100,
   "metadata": {},
   "outputs": [],
   "source": [
    "#Function to Validate  Status of Token\n",
    "#If the Token is Expired a new one will be generated. \n",
    "def Token_Status():\n",
    "    if Token_expiry_time >= datetime.now():\n",
    "        Token_expired = False    \n",
    "        #print (\"Token not Expired: Expiring at \"+ str(Token_expiry_time))\n",
    "        #print(Token)\n",
    "    else:\n",
    "        Token_expired = True\n",
    "        Get_Token()\n",
    "        #print (\"New Token Generated Expiring at \"+ str(Token_expiry_time))\n",
    "        #print(Token)\n",
    "##Token_Status()"
   ]
  },
  {
   "cell_type": "markdown",
   "metadata": {},
   "source": [
    "## <b>Get Paid</b>\n",
    "\n",
    "The \"Get Paid\" section covers functions related to initiating and managing debit transactions from a customer's wallet to a business wallet. This includes requesting debits, checking the status of debit requests, sending notifications after successful debits, and handling refunds.\n",
    "\n",
    "#### Functions:\n",
    "1. **Request Debit Payment**: Initiates a debit USSD prompt to the payer to approve with a PIN.\n",
    "2. **Check Debit Status**: Checks the status of a debit request.\n",
    "3. **Send Notification**: Sends a notification to the payer after a successful debit request.\n",
    "4. **Refund Debit**: Initiates a refund for a previously successful debit transaction.\n",
    "5. **Check Refund Status**: Checks the status of a refund request.\n",
    "\n"
   ]
  },
  {
   "cell_type": "markdown",
   "metadata": {},
   "source": [
    "1. [Debit API Function](#debit-api-function)\n",
    "2. [Debit Status API Function](#debit-status-api-function)\n",
    "3. [Notification to the Payer after a successful Debit Request](#notification-to-the-payer-after-a-successful-debit-request)\n",
    "4. [Refund of a successful Debit Partial or full](#refund-of-a-successful-debit-partial-or-full)\n",
    "5. [Get Status of a Refund Request](#get-status-of-a-refund-request)\n",
    "6. [Test GetPaid Functions Status](#test-getpaid-functions-status)"
   ]
  },
  {
   "cell_type": "markdown",
   "metadata": {},
   "source": [
    "### <b>Debit API  Function </b>\n",
    "This function initiates a debit USSD prompt to the payer to approve with a PIN. It sends a POST request to the MoMo API to request a debit from the payer's wallet to the business wallet.\n",
    "\n",
    "#### Parameters:\n",
    "- `MSISDN`: The MSISDN (phone number) of the payer who will approve the debit.\n",
    "- `Amount`: The amount to be debited.\n",
    "\n",
    "#### Steps:\n",
    "1. The function first checks the token status and renews it if necessary.\n",
    "2. It generates a new unique reference ID for the debit request.\n",
    "3. It sends a POST request to the MoMo API with the necessary headers and body.\n",
    "4. The response status code is printed to indicate whether the debit request was successful or not.\n",
    "\n",
    "#### Example Usage:"
   ]
  },
  {
   "cell_type": "code",
   "execution_count": 101,
   "metadata": {},
   "outputs": [],
   "source": [
    "#Function that initiates a Debit USSD Prompt to the Payer to approve wit PIN\n",
    "def Request_Debit_Payment(MSISDN,Amount):\n",
    "  import requests as rq\n",
    "  from datetime import datetime, timedelta\n",
    "  import traceback\n",
    "  import uuid\n",
    "  global GetPaid_Debit_Request_Ref_ID\n",
    "  Token_Status()\n",
    "  GetPaid_Debit_Request_Ref_ID = str(uuid.uuid4())\n",
    "  url = Base_Url+\"/collection/v1_0/requesttopay\"\n",
    "  headers = {\n",
    "    \"X-Reference-Id\": GetPaid_Debit_Request_Ref_ID, #Unique for every request, used to validate status of the request. \n",
    "    \"X-Target-Environment\": Environment,\n",
    "    \"Ocp-Apim-Subscription-Key\": Collection_Subscription_Primary_Key,\n",
    "    \"Authorization\":\"Bearer \"+Token, #Avoid creating new tokens for every request,  track the Expiry \n",
    "    \"Content-Type\": \"application/json\",\n",
    "    \"X-Callback-Url\":\"https://webhook.site/mycallback/site\"### You can add X-Callback-Url to receive the callback  (\"X-Callback-Url\":\"https://webhook.com/mysite/status\")\n",
    "  }\n",
    "  body = {    \n",
    "    \"amount\": Amount,\n",
    "    \"currency\": \"EUR\", #use the currency as EUR in the SandBox\n",
    "    \"externalId\": str(uuid.uuid1()), #Used for Reconciliation between application and MoMo platform. \n",
    "    \"payer\": {\n",
    "      \"partyIdType\": \"MSISDN\",#EMAIL and ALIAS apply as well \n",
    "      \"partyId\": MSISDN\n",
    "  },\n",
    "    \"payerMessage\": \"MoMo Debit API\", #Message sent to the Payer\n",
    "    \"payeeNote\": \"MoMo Debit API\" #Message Note to the  Payee\n",
    "  }\n",
    "  try:\n",
    "    resp = rq.request(\"post\", url, json=body, headers=headers)\n",
    "    if(str(resp.status_code) == \"202\"):\n",
    "      print(\"Debit request to MSISDN \"+MSISDN+\" Amount \"+Amount+\" \"+ \"Response Code \"+str(resp.status_code))\n",
    "      \n",
    "      #print(\"Request_Reference_ID :\"+GetPaid_Debit_Request_Ref_ID )\n",
    "    elif (str(resp.status_code) == \"404\"):\n",
    "      print(\"Check The Base_URL \")\n",
    "    elif (str(resp.status_code) == \"400\"):\n",
    "      print(\"Ensure no Special Charters like & in the Message and Notes \\nThe X-Reference-Id in the header should be UUID Versio 4\")\n",
    "      print(resp.text)\n",
    "    elif (str(resp.status_code) == \"500\" or str(resp.json().get(\"message\")).endswith(\"INVALID_CALLBACK_URL_HOST\") or str(resp.json().get(\"message\")).endswith(\"Currency not supported.\")):\n",
    "      print(resp.json())\n",
    "      print(\"Ensure the  URL Host is the same with the one created when generating API_USer function \")\n",
    "      print(\"Verify and validate  Currency for Sand Box is EUR\")\n",
    "    elif (str(resp.status_code) == \"500\" ):\n",
    "      print(resp.text)\n",
    "      print(\"API is not available\")\n",
    "    else:\n",
    "      print(resp.status_code)\n",
    "      print(resp.text)\n",
    "  except TypeError:\n",
    "    print(\"Request Body should be Json Formatted\")\n",
    "  except:\n",
    "    print(\"Something Is Wrong \")\n",
    "    traceback.print_exc()   \n",
    "#Request_Debit_Payment(\"56733123453\",\"50000\")"
   ]
  },
  {
   "cell_type": "markdown",
   "metadata": {},
   "source": [
    "### <b>Debit Status API Function</b>"
   ]
  },
  {
   "cell_type": "code",
   "execution_count": 102,
   "metadata": {},
   "outputs": [],
   "source": [
    "#Check Status \n",
    "def Check_Debit_Status(X_Reference_Id_Of_The_Debit_Request):\n",
    "    import requests as rq\n",
    "    import json\n",
    "    import traceback\n",
    "    print(\"Waiting for Debit Status\")\n",
    "    countdown(6)\n",
    "    Token_Status()\n",
    "    global Debit_Status\n",
    "    url = Base_Url+\"/collection/v1_0/requesttopay/\"+X_Reference_Id_Of_The_Debit_Request\n",
    "    headers = {\n",
    "    \"X-Target-Environment\": Environment,\n",
    "    \"Ocp-Apim-Subscription-Key\": Collection_Subscription_Primary_Key,\n",
    "    \"Authorization\":\"Bearer \"+Token,\n",
    "    }\n",
    "    try:\n",
    "        resp = rq.request(\"get\", url,headers=headers)\n",
    "        Status_Json = resp.json()\n",
    "        Status_Json_DD = str(Status_Json).replace('\\'', '\"')\n",
    "        Debit_Status = Status_Json.get('status')\n",
    "        print(str(Status_Json))\n",
    "        \n",
    "    except:\n",
    "        print(\"Something Is Wrong \")\n",
    "        traceback.print_exc()       \n",
    "    #print(Status_Json)\n",
    "    \n",
    "#Check_Status(\"\")\n"
   ]
  },
  {
   "cell_type": "markdown",
   "metadata": {},
   "source": [
    "### <b>Notification to the Payer after a successful Debit Request.</b>"
   ]
  },
  {
   "cell_type": "code",
   "execution_count": 103,
   "metadata": {},
   "outputs": [],
   "source": [
    "#Send a Notification After a succesfull Request to Pay\n",
    "def Send_Notification (X_Reference_Id_Of_The_Debit_Request):\n",
    "    import requests as rq\n",
    "    import json\n",
    "    import traceback\n",
    "    countdown(6)\n",
    "    Token_Status()\n",
    "    url = Base_Url+\"/collection/v1_0/requesttopay/\"+X_Reference_Id_Of_The_Debit_Request+\"/deliverynotification\"\n",
    "    headers = {\n",
    "    \"X-Target-Environment\": Environment,\n",
    "    \"Ocp-Apim-Subscription-Key\": Collection_Subscription_Primary_Key,\n",
    "    \"Authorization\":\"Bearer \"+Token,\n",
    "    }\n",
    "    body = {\"notificationMessage\": \"Product has been Successfull sent to your Home, Thank You fro Purchasing from MoMo\"}\n",
    "    \n",
    "    try:\n",
    "        resp = rq.request(\"post\", url, json=body, headers=headers)\n",
    "        print(str(resp.status_code)+\":Ok \"+\" Notification Sent\")       \n",
    "        \n",
    "    except:\n",
    "        print(\"Something Is Wrong \")\n",
    "        traceback.print_exc()       \n",
    "    #print(Status_Json)\n"
   ]
  },
  {
   "cell_type": "markdown",
   "metadata": {},
   "source": [
    "### <b>Refund of a successful Debit Partial or full</b>\n",
    "\n",
    "This function initiates a refund for a previously successful debit transaction. The refund can be partial or full, depending on the specified amount. The function sends a POST request to the MoMo API to initiate the refund.\n",
    "\n",
    "#### Parameters:\n",
    "- `X_Reference_Id_Of_The_Debit_Request`: The unique reference ID of the debit request that you want to refund.\n",
    "- `Amount`: The amount to be refunded. This can be the full amount of the original debit or a partial amount.\n",
    "\n",
    "#### Steps:\n",
    "1. The function first checks the token status and renews it if necessary.\n",
    "2. It generates a new unique reference ID for the refund request.\n",
    "3. It sends a POST request to the MoMo API with the necessary headers and body.\n",
    "4. The response status code is printed to indicate whether the refund request was successful or not.\n",
    "\n",
    "#### Example Usage:"
   ]
  },
  {
   "cell_type": "code",
   "execution_count": 104,
   "metadata": {},
   "outputs": [],
   "source": [
    "#Send a refund of a debit transaction\n",
    "def Refund_Debit (X_Reference_Id_Of_The_Debit_Request,Amount):\n",
    "    import requests as rq\n",
    "    import json\n",
    "    import uuid\n",
    "    import traceback\n",
    "    global GetPaid_Debit_Refund_Ref_ID\n",
    "    GetPaid_Debit_Refund_Ref_ID = str(uuid.uuid4())\n",
    "    Token_Status()\n",
    "    url = Base_Url+\"/disbursement/v1_0/refund\"\n",
    "    headers = {\n",
    "    \"X-Reference-Id\": GetPaid_Debit_Refund_Ref_ID,\n",
    "    \"X-Target-Environment\": Environment,\n",
    "    \"Ocp-Apim-Subscription-Key\": Disbursement_Subscription_Primary_Key,\n",
    "    \"Authorization\":\"Bearer \"+Token\n",
    "    }\n",
    "    body = {    \n",
    "    \"amount\": str(Amount),\n",
    "    \"currency\": \"EUR\", #use the currency as EUR in the SandBox\n",
    "    \"externalId\": str(uuid.uuid1()), #Used for Reconciliation between application and MoMo platform. \n",
    "    \"payerMessage\": \"MoMo Reund API\", #Message sent to the Payer\n",
    "    \"payeeNote\": \"MoMo Refund API\", #Message Note to the  Payee\n",
    "    \"referenceIdToRefund\": str(X_Reference_Id_Of_The_Debit_Request)\n",
    "  }\n",
    "    \n",
    "    try:\n",
    "        resp = rq.request(\"post\", url, json=body, headers=headers)\n",
    "        if(str(resp.status_code) == \"202\"):\n",
    "           print(\"Refund request Id \"+str(X_Reference_Id_Of_The_Debit_Request)+\" Amount \"+str(Amount)+\" \"+ \"Response Code \"+str(resp.status_code))\n",
    "        elif (str(resp.status_code) == \"404\"):\n",
    "           print(\"Check The Base_URL \")\n",
    "    except:\n",
    "        print(\"Something Is Wrong \")\n",
    "        traceback.print_exc()       \n",
    "    #print(Status_Json)\n",
    "\n"
   ]
  },
  {
   "cell_type": "markdown",
   "metadata": {},
   "source": [
    "### <b>Get Status of a Refund Request</b>\n",
    "\n",
    "This function checks the status of a refund request that was previously initiated. It sends a GET request to the MoMo API to retrieve the status and details of the refund associated with the provided reference ID.\n",
    "\n",
    "#### Parameters:\n",
    "- `X_Reference_Id_Of_The_Refund_Request`: The unique reference ID of the refund request whose status you want to check.\n",
    "\n",
    "#### Steps:\n",
    "1. The function first checks the token status and renews it if necessary.\n",
    "2. It sends a GET request to the MoMo API with the necessary headers.\n",
    "3. The response is printed, which includes the status and details of the refund request.\n",
    "\n",
    "#### Example Usage:"
   ]
  },
  {
   "cell_type": "code",
   "execution_count": 105,
   "metadata": {},
   "outputs": [],
   "source": [
    "#Check Refund Status\n",
    "def Check_Refund_Status(X_Reference_Id_Of_The_Refund_Request):\n",
    "    import requests as rq\n",
    "    import json\n",
    "    import traceback\n",
    "    Token_Status()\n",
    "    global Refund_Status\n",
    "    print(\"Waiting for Refund Status\")\n",
    "    countdown(6)\n",
    "    url = Base_Url+\"/disbursement/v1_0/refund/\"+X_Reference_Id_Of_The_Refund_Request\n",
    "    headers = {\n",
    "    \"X-Target-Environment\": Environment,\n",
    "    \"Ocp-Apim-Subscription-Key\": Disbursement_Subscription_Primary_Key,\n",
    "    \"Authorization\":\"Bearer \"+Token,\n",
    "    }\n",
    "    try:        \n",
    "        resp = rq.request(\"get\", url,headers=headers)\n",
    "        Status_Json = resp.json()\n",
    "        Status_Json_DD = str(Status_Json).replace('\\'', '\"')\n",
    "        Refund_Status = Status_Json.get('status')\n",
    "        print(str(Status_Json))\n",
    "        \n",
    "    except:\n",
    "        print(\"Something Is Wrong \")\n",
    "        traceback.print_exc()       \n",
    "    #print(Status_Json)\n",
    "    \n",
    "#Check_Status(\"\")"
   ]
  },
  {
   "cell_type": "markdown",
   "metadata": {},
   "source": [
    "#### <b>Test GetPaid Functions Status</b> \n",
    "<b>Note: Responses with payer_Id_msisdn as the MSISDN</b>\n",
    "|  payer_id-Msisdn | Response status \n",
    "| --- | --- | \n",
    "46733123450\t|Failed\n",
    "46733123451\t|Rejected\n",
    "46733123452\t|Timeout\n",
    "56733123453\t|Success\n",
    "46733123454\t|Pending"
   ]
  },
  {
   "cell_type": "code",
   "execution_count": 106,
   "metadata": {},
   "outputs": [
    {
     "name": "stdout",
     "output_type": "stream",
     "text": [
      "New Token Generated Expiring at :2024-11-10 17:48:32.589894\n",
      "Debit request to MSISDN 56733123452 Amount 50000 Response Code 202\n",
      "Waiting for Debit Status\n",
      "6:5:4:3:2:1:0\n",
      "{'financialTransactionId': '1195582132', 'externalId': '79853abc-9f6a-11ef-9077-00155d27efc1', 'amount': '50000', 'currency': 'EUR', 'payer': {'partyIdType': 'MSISDN', 'partyId': '56733123452'}, 'payerMessage': 'MoMo Debit API', 'payeeNote': 'MoMo Debit API', 'status': 'SUCCESSFUL'}\n",
      "6:5:4:3:2:1:0\n",
      "200:Ok  Notification Sent\n",
      "Refund request Id 96ed5820-eca6-4620-8bc2-b56aaef23777 Amount 200 Response Code 202\n",
      "Waiting for Refund Status\n",
      "6:5:4:3:2:1:0\n",
      "{'financialTransactionId': '1796364887', 'externalId': '8271fc93-9f6a-11ef-b5ff-00155d27efc1', 'amount': '200', 'currency': 'EUR', 'payee': {'partyIdType': 'MSISDN', 'partyId': '56733123452'}, 'payerMessage': 'MoMo Reund API', 'payeeNote': 'MoMo Refund API', 'status': 'SUCCESSFUL'}\n"
     ]
    }
   ],
   "source": [
    "#Test the Debit, Notification and the Refund\n",
    "Request_Debit_Payment(\"56733123452\",\"50000\")\n",
    "status = Check_Debit_Status(GetPaid_Debit_Request_Ref_ID)\n",
    "if (Debit_Status == \"SUCCESSFUL\"):\n",
    "    \n",
    "    Send_Notification(GetPaid_Debit_Request_Ref_ID)\n",
    "    Refund_Debit(GetPaid_Debit_Request_Ref_ID,\"200\")\n",
    "    \n",
    "    Check_Refund_Status(GetPaid_Debit_Refund_Ref_ID)\n",
    "\n",
    "else:\n",
    "    print(Debit_Status+\"\"+\" Notification No Sent\")"
   ]
  },
  {
   "cell_type": "markdown",
   "metadata": {},
   "source": [
    "## <b>Fetch  Customer Details KYC</b>"
   ]
  },
  {
   "cell_type": "markdown",
   "metadata": {},
   "source": [
    "1. [Get Basic Info KYC Function](#get-basic-info-kyc-function)\n",
    "2. [Get Detailed KYC Function With Consent](#get-detailed-kyc-function-with-consent)\n",
    "    1. [Generate Consent bc-authorize Function](#generate-consent-bc-authorize-function)\n",
    "    2. [Generate Consent Token oauth2 Function](#generate-consent-token-oauth2-function)\n",
    "    3. [Status Token oauth2 Function](#status-token-oauth2-function)\n",
    "    4. [Get Detailed KYC with Consent Token oauth2 Function](#get-detailed-kyc-with-consent-token-oauth2-function)\n",
    "3. [Test detailed KYC Functions](#test-detailed-kyc-functions)"
   ]
  },
  {
   "cell_type": "markdown",
   "metadata": {},
   "source": [
    "### <b>Get Basic Info KYC Function</b>\n",
    "\n",
    "This function retrieves basic Know Your Customer (KYC) information for a customer, including their first name and last name. The function sends a GET request to the MoMo API to fetch the basic user information associated with the provided MSISDN (phone number).\n",
    "\n",
    "#### Parameters:\n",
    "- `Number`: The MSISDN (phone number) of the customer whose basic information you want to retrieve.\n",
    "- `NAME`: The full name of the customer to validate against the retrieved information.\n",
    "\n",
    "#### Steps:\n",
    "1. The function first checks the token status and renews it if necessary.\n",
    "2. It sends a GET request to the MoMo API with the necessary headers.\n",
    "3. The response is parsed to extract the first name and last name of the customer.\n",
    "4. The retrieved name is compared with the provided name to validate if they match.\n",
    "5. The result of the validation is stored in the `Proceed` variable.\n",
    "\n",
    "#### Example Usage:"
   ]
  },
  {
   "cell_type": "code",
   "execution_count": 107,
   "metadata": {},
   "outputs": [],
   "source": [
    "#Get Basic Info KYC (FirstName and LastName)\n",
    "def Check_BasicInfo_KYC(Number,NAME):\n",
    "    import requests as rq\n",
    "    import json\n",
    "    import traceback\n",
    "    global First_Name, Last_Name,Proceed\n",
    "    Token_Status()\n",
    "    url = Base_Url+\"/disbursement/v1_0/accountholder/msisdn/\"+Number+\"/basicuserinfo\"\n",
    "    headers = {\n",
    "    \"X-Target-Environment\": Environment,\n",
    "    \"Ocp-Apim-Subscription-Key\": Disbursement_Subscription_Primary_Key,\n",
    "    \"Authorization\":\"Bearer \"+Token,\n",
    "    }\n",
    "    try:\n",
    "        resp = rq.request(\"get\", url,headers=headers)\n",
    "        Status_Json = resp.json()\n",
    "        Status_Json_DD = str(Status_Json).replace('\\'', '\"')\n",
    "        First_Name = Status_Json.get(\"given_name\")\n",
    "        Last_Name = Status_Json.get(\"family_name\")\n",
    "        if((str(First_Name).upper()+\" \"+str(Last_Name).upper()) ==NAME):\n",
    "            Proceed = True\n",
    "        else:\n",
    "            Proceed = False        \n",
    "    except:\n",
    "        print(\"Something Is Wrong \")\n",
    "        traceback.print_exc()       \n",
    "    #print(Status_Json)\n",
    "#Check_BasicInfo_KYC(\"56733123453\",\"BOX SAND\")"
   ]
  },
  {
   "cell_type": "markdown",
   "metadata": {
    "notebookRunGroups": {
     "groupValue": "2"
    }
   },
   "source": [
    "### <b>Get Detailed KYC Function  With Consent"
   ]
  },
  {
   "cell_type": "markdown",
   "metadata": {},
   "source": [
    "#### <b>Generate Consent bc-authorize Function </b>\n",
    "\n",
    "\n",
    "This function retrieves detailed Know Your Customer (KYC) information for a customer, including their first name, last name, gender, date of birth, and ID number. The function requires the customer's consent, which is obtained through a series of steps involving authorization and token generation.\n",
    "\n",
    "##### Steps:\n",
    "1. **Generate Consent (`bc_authorize`)**: This step sends a consent request to the customer for approval, generating a unique Consent ID (`auth_req_id`).\n",
    "2. **Generate Consent Token (`Get_Oauth_Token`)**: Once the customer approves the consent request, this step generates an OAuth token using the Consent ID.\n",
    "3. **Check Token Status (`Token_Oauth_Status`)**: This step checks the status of the OAuth token and renews it if necessary.\n",
    "4. **Get Detailed KYC Information (`Get_DetailedInfo_KYC`)**: Finally, this step retrieves the detailed KYC information using the OAuth token.\n",
    "\n",
    "##### Example Usage:"
   ]
  },
  {
   "cell_type": "code",
   "execution_count": 108,
   "metadata": {},
   "outputs": [],
   "source": [
    "#Send Consent to customer for Approval, generating unique Consent ID as auth_req_id\n",
    "def bc_authorize (Customer_Number_):\n",
    "    import requests as rq\n",
    "    import json\n",
    "    import traceback\n",
    "    global Consent_ID, Customer_Number\n",
    "    Customer_Number = str(Customer_Number_)  \n",
    "    Token_Status()\n",
    "    url = Base_Url+\"/disbursement/v1_0/bc-authorize\"\n",
    "    headers = {\n",
    "    \"X-Target-Environment\": Environment,\n",
    "    \"Ocp-Apim-Subscription-Key\": Disbursement_Subscription_Primary_Key,\n",
    "    \"Authorization\":\"Bearer \"+Token,\n",
    "    'Content-Type': 'application/x-www-form-urlencoded'\n",
    "    }\n",
    "    body = 'scope=all_info&login_hint=ID:'+Customer_Number+'/MSISDN&access_type=offline' \n",
    "    #scope will differ based on the information you want to access.   \n",
    "    try:\n",
    "        resp = rq.request(\"post\", url, data=body, headers=headers)\n",
    "        resp_json = resp.json()\n",
    "        Consent_ID =resp_json.get(\"auth_req_id\")\n",
    "        #print(Consent_ID )\n",
    "    except:\n",
    "        print(\"Something Is Wrong \")\n",
    "        traceback.print_exc()       \n",
    "    #print(Status_Json)\n",
    "#bc_authorize (\"56733123453\")"
   ]
  },
  {
   "cell_type": "markdown",
   "metadata": {},
   "source": [
    "#### <b>Generate Consent Token oauth2 Function"
   ]
  },
  {
   "cell_type": "code",
   "execution_count": 109,
   "metadata": {},
   "outputs": [
    {
     "name": "stdout",
     "output_type": "stream",
     "text": [
      "New Token Generated Expiring at :2024-11-10 16:53:57.056723\n"
     ]
    }
   ],
   "source": [
    "#Function to generate Oauth Token and set Token expiry. \n",
    "def Get_Oauth_Token(consent_auth_req_id):# function to return token (renews token if expired)\n",
    "    import requests as rq\n",
    "    import traceback\n",
    "    import json\n",
    "    from datetime import datetime, timedelta\n",
    "    global Token_Oauth\n",
    "    global Disbursement_Subscription_Primary_Key\n",
    "    global Token_Oauth_expiry_time\n",
    "    Token_Oauth_expiry_time = datetime.now()\n",
    "    EndPoint = Base_Url+\"/disbursement/oauth2/token/\"\n",
    "    #Auth = bytes(Api_User + ':' + Api_Key, \"utf-8\")\n",
    "    headers = {    \n",
    "    \"Ocp-Apim-Subscription-Key\": Disbursement_Subscription_Primary_Key,\n",
    "    'Content-Type': 'application/x-www-form-urlencoded',\n",
    "    \"X-Target-Environment\": Environment\n",
    "    }\n",
    "    body = \"grant_type=urn:openid:params:grant-type:ciba&auth_req_id=\"+consent_auth_req_id+\"\"\n",
    "    try:\n",
    "        resp = rq.request(\"POST\", EndPoint,auth=(Api_User,Api_Key), headers=headers,data=body)\n",
    "        Response = resp.json()        \n",
    "        if(str(resp.status_code) == \"200\"):\n",
    "            #print(Response)\n",
    "            Token_Oauth = Response.get('access_token')\n",
    "            Token_Oauth_expiry = Response.get('expires_in')\n",
    "            Token_Oauth_expiry_time = datetime.now() + timedelta(seconds= int(Token_Oauth_expiry)) #Track Token Expiry Time \n",
    "            print(\"New Token Generated Expiring at :\" +str(Token_Oauth_expiry_time))           \n",
    "        elif(str(resp.status_code) == \"500\" or str(Response.get(\"error\"))==\"login_failed\"):\n",
    "            print(Response)\n",
    "            print(\"Ensure to Map the API User and API Key as (Username:Password) respectively\")\n",
    "        else:\n",
    "            print(resp.text+\" \"+str(resp.status_code))\n",
    "            print(rq)\n",
    "    except:\n",
    "        print(\"Something Is Wrong \")\n",
    "        traceback.print_exc()  \n",
    "Get_Oauth_Token(Consent_ID)"
   ]
  },
  {
   "cell_type": "markdown",
   "metadata": {},
   "source": [
    "#### <b>Status Token oauth2 Function"
   ]
  },
  {
   "cell_type": "code",
   "execution_count": null,
   "metadata": {},
   "outputs": [],
   "source": [
    "#Function to Validate  Status of Token\n",
    "#If the Token is Expired a new one will be generated. \n",
    "def Token_Oauth_Status():\n",
    "    if Token_Oauth_expiry_time >= datetime.now():\n",
    "        Token_expired = False    \n",
    "    else:\n",
    "        Token_expired = True\n",
    "        Get_Oauth_Token(Consent_ID)"
   ]
  },
  {
   "cell_type": "code",
   "execution_count": 110,
   "metadata": {},
   "outputs": [],
   "source": [
    "#Function to Validate  Status of Token\n",
    "#If the Token is Expired a new one will be generated. \n",
    "def Token_Oauth_Status():\n",
    "    #from datetime import datetime, timedelta\n",
    "    #Token_Oauth_expiry_time = datetime.now()\n",
    "    if Token_Oauth_expiry_time >= datetime.now():\n",
    "        Token_expired = False    \n",
    "        #print (\"Token not Expired: Expiring at \"+ str(Token_expiry_time))\n",
    "        #print(Token)\n",
    "    else:\n",
    "        Token_expired = True\n",
    "        Get_Oauth_Token(Consent_ID)\n",
    "        #print (\"New Token Generated Expiring at \"+ str(Token_expiry_time))\n",
    "        #print(Token)\n",
    "#Token_Oauth_Status()"
   ]
  },
  {
   "cell_type": "markdown",
   "metadata": {},
   "source": [
    "#### <b>Get Detailed KYC with Consent Token oauth2 Function </b>\n",
    "\n",
    "This function retrieves detailed Know Your Customer (KYC) information for a customer, including their first name, last name, gender, date of birth, and ID number. The function requires the customer's consent, which is obtained through a series of steps involving authorization and token generation.\n",
    "\n",
    "##### Steps:\n",
    "1. **Generate Consent (`bc_authorize`)**: This step sends a consent request to the customer for approval, generating a unique Consent ID (`auth_req_id`).\n",
    "2. **Generate Consent Token (`Get_Oauth_Token`)**: Once the customer approves the consent request, this step generates an OAuth token using the Consent ID.\n",
    "3. **Check Token Status (`Token_Oauth_Status`)**: This step checks the status of the OAuth token and renews it if necessary.\n",
    "4. **Get Detailed KYC Information (`Get_DetailedInfo_KYC`)**: Finally, this step retrieves the detailed KYC information using the OAuth token.\n",
    "\n",
    "##### Example Usage:"
   ]
  },
  {
   "cell_type": "code",
   "execution_count": 111,
   "metadata": {},
   "outputs": [],
   "source": [
    "#Get Detailed Info KYC (FirstName, LastName, gender, DoB, ID_Number)\n",
    "def Get_DetailedInfo_KYC():\n",
    "    import requests as rq\n",
    "    import json\n",
    "    import traceback\n",
    "    #bc_authorize (\"56733123453\")\n",
    "    Token_Oauth_Status()\n",
    "    url = Base_Url+\"/disbursement/oauth2/v1_0/userinfo\"\n",
    "    headers = {\n",
    "    \"X-Target-Environment\": Environment,\n",
    "    \"Ocp-Apim-Subscription-Key\": Disbursement_Subscription_Primary_Key,\n",
    "    \"Authorization\":\"Bearer \"+Token_Oauth\n",
    "    }\n",
    "    try:\n",
    "        resp = rq.request(\"get\", url,headers=headers)\n",
    "        Response = resp.json()\n",
    "        print(resp.text)       \n",
    "    except:\n",
    "        print(\"Something Is Wrong \")\n",
    "        traceback.print_exc()       \n",
    "    #print(Status_Json)\n",
    "#Get_DetailedInfo_KYC()"
   ]
  },
  {
   "cell_type": "markdown",
   "metadata": {},
   "source": [
    "#### <b>Test detailed KYC Functions</b> \n",
    "<b>Note: Response is the same with any provided  Customer_msisdn as the MSISDN in sand Box</b>\n"
   ]
  },
  {
   "cell_type": "code",
   "execution_count": 112,
   "metadata": {},
   "outputs": [
    {
     "name": "stdout",
     "output_type": "stream",
     "text": [
      "{\"sub\":\"0\",\"name\":\"Sand Box\",\"given_name\":\"Sand\",\"family_name\":\"Box\",\"birthdate\":\"1976-08-13\",\"locale\":\"sv_SE\",\"status\":\"ACTIVE\",\"gender\":\"MALE\",\"email\":\"email@domain.test\",\"email_verified\":true,\"phone_number\":\"46123456789\",\"phone_number_verified\":true,\"address\":{\"formatted\":\"Street 17\\n123 45 Karlskrona\\nBlekinge\\nSweden\",\"street_address\":\"Street 17\",\"postal_code\":\"123 45\",\"locality\":\"Karlskrona\",\"region\":\"Blekinge\",\"country\":\"Sweden\"},\"updated_at\":1731242938,\"credit_score\":123,\"active\":true,\"country_of_birth\":\"Sweden\",\"region_of_birth\":\"Blekinge\",\"city_of_birth\":\"Karlskrona\",\"occupation\":\"Manager\",\"employer_name\":\"Ericsson\",\"identification_type\":\"PASS\",\"identification_value\":\"S1234567\"}\n"
     ]
    }
   ],
   "source": [
    "bc_authorize (\"6575688\")\n",
    "Get_DetailedInfo_KYC()"
   ]
  },
  {
   "cell_type": "markdown",
   "metadata": {},
   "source": [
    "## <b>Pay</b>\n",
    "The \"Pay\" section covers functions related to disbursing funds from a business wallet to a customer's wallet. This includes initiating transfers and checking the status of those transfers. The functions ensure secure and validated transactions by checking customer details and transaction statuses.\n",
    "\n",
    "### Functions:\n",
    "1. [Disburse Transfer Function](#disburse-transfer-function)\n",
    "2. [Get Status on Disbursements Transfer Function](#get-status-on-disbursements-transfer-function)\n",
    "3. [Test Pay Functions Disbursement](#test-pay-functions-disbursement)"
   ]
  },
  {
   "cell_type": "markdown",
   "metadata": {},
   "source": [
    "### <b>Disburse Transfer Function </b>\n",
    "\n",
    "This function initiates a transfer from a business wallet to a customer's wallet. It validates the customer's name before proceeding with the transfer. The function sends a POST request to the MoMo API to initiate the transfer.\n",
    "\n",
    "#### Parameters:\n",
    "- `MSISDN`: The MSISDN (phone number) of the customer who will receive the transfer.\n",
    "- `MSISDN_NAME`: The name of the customer to validate before initiating the transfer.\n",
    "- `Amount`: The amount to be transferred.\n",
    "\n",
    "#### Steps:\n",
    "1. The function first checks the token status and renews it if necessary.\n",
    "2. It validates the customer's name using the `Check_BasicInfo_KYC` function.\n",
    "3. If the name validation is successful, it generates a new unique reference ID for the transfer request.\n",
    "4. It sends a POST request to the MoMo API with the necessary headers and body.\n",
    "5. The response status code is printed to indicate whether the transfer request was successful or not.\n",
    "\n",
    "#### Example Usage:"
   ]
  },
  {
   "cell_type": "code",
   "execution_count": 113,
   "metadata": {},
   "outputs": [],
   "source": [
    "#Disbursements Transfer\n",
    "#Function that initiates a Transfer from  Business  Wallet to a customer's  \n",
    "def Request_Tranfer_Payment(MSISDN,MSISDN_NAME,Amount):\n",
    "  import requests as rq\n",
    "  from datetime import datetime, timedelta\n",
    "  import traceback\n",
    "  import uuid\n",
    "  global Pay_Transfer_Request_Ref_ID \n",
    "  Token_Status()\n",
    "  Check_BasicInfo_KYC(MSISDN,MSISDN_NAME)# Function that Validates the Names of the Customer(Receiving Party)\n",
    "  if(Proceed==True):\n",
    "    Pay_Transfer_Request_Ref_ID  = str(uuid.uuid4())  \n",
    "    url = Base_Url+\"/disbursement/v1_0/transfer\"\n",
    "    headers = {\n",
    "      \"X-Reference-Id\": Pay_Transfer_Request_Ref_ID , #Unique for every request, used to validate status of the request. \n",
    "      \"X-Target-Environment\": Environment,\n",
    "      \"Ocp-Apim-Subscription-Key\": Disbursement_Subscription_Primary_Key ,\n",
    "      \"Authorization\":\"Bearer \"+Token, #Avoid creating new tokens for every request,  track the Expiry \n",
    "      \"Content-Type\": \"application/json\",\n",
    "      \"X-Callback-Url\":\"https://webhook.site/mycallback/site\"### You can add X-Callback-Url to receive the callback  (\"X-Callback-Url\":\"https://webhook.com/mysite/status\")\n",
    "    }\n",
    "    body = {    \n",
    "      \"amount\": Amount,\n",
    "      \"currency\": \"EUR\", #use the currency as EUR in the SandBox\n",
    "      \"externalId\": str(uuid.uuid1()), #Used for Reconciliation between application and MoMo platform. \n",
    "      \"payee\": {\n",
    "      \"partyIdType\": \"MSISDN\",#EMAIL and ALIAS apply as well \n",
    "      \"partyId\": MSISDN\n",
    "    },\n",
    "      \"payerMessage\": \"MoMo Transfer API\", #Message sent to the Payer\n",
    "      \"payeeNote\": \"MoMo Transfer API\" #Message Note to the  Payee\n",
    "    }\n",
    "    try:\n",
    "      resp = rq.request(\"post\", url, json=body, headers=headers)\n",
    "      if(str(resp.status_code) == \"202\"):\n",
    "        print(\"Transfer request \"+Pay_Transfer_Request_Ref_ID+\" to MSISDN \"+MSISDN+\" Amount \"+Amount+\" \"+ \"Response Code \"+str(resp.status_code))\n",
    "        #print(\"Completed\")        \n",
    "      elif (str(resp.status_code) == \"404\"):\n",
    "        print(\"Check The Base_URL \")\n",
    "      elif (str(resp.status_code) == \"400\"):\n",
    "        print(\"Ensure no Special Charters like & in the Message and Notes \\nThe X-Reference-Id in the header should be UUID Versio 4\")\n",
    "        print(resp.text)\n",
    "      elif (str(resp.status_code) == \"500\" or str(resp.json().get(\"message\")).endswith(\"INVALID_CALLBACK_URL_HOST\") or str(resp.json().get(\"message\")).endswith(\"Currency not supported.\")):\n",
    "        print(resp.json())\n",
    "        print(\"Ensure the  URL Host is the same with the one created when generating API_USer function \")\n",
    "        print(\"Verify and validate  Currency for Sand Box is EUR\")\n",
    "      elif (str(resp.status_code) == \"500\" ):\n",
    "        print(resp.text)\n",
    "        print(\"API is not available\")\n",
    "      else:\n",
    "        print(resp.status_code)\n",
    "        print(resp.text)\n",
    "    except TypeError:\n",
    "      print(\"Request Body should be Json Formatted\")\n",
    "    except:\n",
    "      print(\"Something Is Wrong \")\n",
    "      traceback.print_exc()   \n",
    "  else:\n",
    "    print(\"Names do not match\")\n",
    "#Request_Tranfer_Payment(\"56733123453\",\"50000\")"
   ]
  },
  {
   "cell_type": "markdown",
   "metadata": {},
   "source": [
    "### <b>Get Status on Disbursements Transfer Function</b>\n",
    "\n",
    "This function checks the status of a disbursement transfer request. It takes a request ID as input and returns the current status of the request. The status can be one of the following:\n",
    "- 'Pending': The request is still being processed.\n",
    "- 'Approved': The request has been approved and the funds are being transferred.\n",
    "- 'Rejected': The request has been rejected due to insufficient funds or other reasons.\n",
    "- 'Completed': The request has been successfully completed and the funds have been transferred.\n",
    "\n",
    "#### Parameters:\n",
    "- `X_Reference_Id_Of_The_Transfer_Request`: The unique identifier of the disbursement transfer request.\n",
    "\n",
    "#### Steps:\n",
    "1. The function first checks the token status and renews it if necessary.\n",
    "2. It sends a GET request to the MoMo API with the necessary headers.\n",
    "3. The response is printed, which includes the status and details of the disbursement transfer request.\n",
    "\n",
    "#### Example Usage:"
   ]
  },
  {
   "cell_type": "code",
   "execution_count": 114,
   "metadata": {},
   "outputs": [],
   "source": [
    "#Check Status Disbursements Transfer\n",
    "def Check_Status_Transfer(X_Reference_Id_Of_The_Transfer_Request):\n",
    "    import requests as rq\n",
    "    import json\n",
    "    import traceback\n",
    "    print(\"Waiting for Disbursements Transfer Status\")\n",
    "    countdown(6)\n",
    "    Token_Status()\n",
    "    url = Base_Url+\"/disbursement/v1_0/transfer/\"+X_Reference_Id_Of_The_Transfer_Request\n",
    "    headers = {\n",
    "    \"X-Target-Environment\": Environment,\n",
    "    \"Ocp-Apim-Subscription-Key\": Disbursement_Subscription_Primary_Key,\n",
    "    \"Authorization\":\"Bearer \"+Token,\n",
    "    }\n",
    "    try:\n",
    "        resp = rq.request(\"get\", url,headers=headers)\n",
    "        Status_Json = resp.json()\n",
    "        Status_Json_DD = str(Status_Json).replace('\\'', '\"')\n",
    "        print(Status_Json)        \n",
    "    except:\n",
    "        print(\"Something Is Wrong \")\n",
    "        traceback.print_exc()       \n",
    "    #print(Status_Json)\n",
    "    \n",
    "#Check_Status_Transfer(\"Check_Status_Transfer\")"
   ]
  },
  {
   "cell_type": "markdown",
   "metadata": {},
   "source": [
    "#### <b>Test Pay Functions Disbursement</b> \n",
    "<b>Note: Responses with payee_Id_msisdn as the MSISDN</b>\n",
    "|  payee_id-Msisdn | Response status \n",
    "| --- | --- | \n",
    "46733123450\t|Failed\n",
    "46733123451\t|Rejected\n",
    "46733123452\t|Timeout\n",
    "56733123453\t|Success\n",
    "46733123454\t|Pending"
   ]
  },
  {
   "cell_type": "code",
   "execution_count": 115,
   "metadata": {},
   "outputs": [
    {
     "name": "stdout",
     "output_type": "stream",
     "text": [
      "Transfer request 7e417f2f-a9d3-4f7c-bb73-9d8177fc9c73 to MSISDN 56733123453 Amount 500 Response Code 202\n",
      "Waiting for Disbursements Transfer Status\n",
      "6:5:4:3:2:1:0\n",
      "{'amount': '500', 'currency': 'EUR', 'financialTransactionId': '1573250710', 'externalId': '89ce697b-9f6a-11ef-b841-00155d27efc1', 'payee': {'partyIdType': 'MSISDN', 'partyId': '56733123453'}, 'payerMessage': 'MoMo Transfer API', 'payeeNote': 'MoMo Transfer API', 'status': 'SUCCESSFUL'}\n"
     ]
    }
   ],
   "source": [
    "#Function to initiate a Transfer from Business Wallet to Customer Wallet\n",
    "#Function validates Customer Names before initiating the Transfer(SandBox names are reversed)\n",
    "Request_Tranfer_Payment(\"56733123453\",\"SAND BOX\",\"500\") \n",
    "#Function to check Transfer Status after 6 seconds\n",
    "Check_Status_Transfer(Pay_Transfer_Request_Ref_ID)\n",
    "\n"
   ]
  },
  {
   "cell_type": "markdown",
   "metadata": {},
   "source": [
    "## <b>Distribute</b>\n",
    "\n",
    "The \"Distribute\" section covers functions related to transferring funds between business and customer wallets. This <br>includes both CashIn (deposit) and CashOut (withdrawal) operations. The functions ensure secure and validated transactions by checking customer details and transaction statuses.\n",
    "\n",
    "### Functions:\n",
    "1. [CashIn Deposit Function](#cashin-deposit-function)\n",
    "2. [CashIn Deposit Status Function](#cashin-deposit-status-function)\n",
    "3. [CashOut Request To Withdraw Function](#cashout-request-to-withdraw-function)\n",
    "4. [CashOut Request Status Function](#cashout-request-status-function)\n",
    "5. [Test CashIn and CashOut Functions](#test-cashin-and-cashout-functions)<br>\n",
    "    5.1. [Test CashIn Functions](#test-cashin-functions)<br>\n",
    "    5.2. [Test CashOut Functions](#test-cashout-functions)"
   ]
  },
  {
   "cell_type": "markdown",
   "metadata": {},
   "source": [
    "### <b>CashIn Deposit Function</b>\n",
    "<b>With Customer Names Validations</b><br>\n",
    "This function initiates a CashIn transfer from a business wallet to a customer's wallet. It validates the customer's name before proceeding with the transfer. The function sends a POST request to the MoMo API to initiate the CashIn transfer.\n",
    "\n",
    "#### Parameters:\n",
    "- `MSISDN`: The MSISDN (phone number) of the customer who will receive the CashIn.\n",
    "- `MSISDN_NAME`: The name of the customer to validate before initiating the transfer.\n",
    "- `Amount`: The amount to be transferred.\n",
    "\n",
    "#### Steps:\n",
    "1. The function first checks the token status and renews it if necessary.\n",
    "2. It validates the customer's name using the `Check_BasicInfo_KYC` function.\n",
    "3. If the name validation is successful, it generates a new unique reference ID for the CashIn request.\n",
    "4. It sends a POST request to the MoMo API with the necessary headers and body.\n",
    "5. The response status code is printed to indicate whether the CashIn request was successful or not.\n",
    "\n",
    "#### Example Usage:"
   ]
  },
  {
   "cell_type": "code",
   "execution_count": 119,
   "metadata": {},
   "outputs": [],
   "source": [
    "#CashIn Deposit \n",
    "#Function that initiates a CashIn  from  Business  Wallet to a customer's  \n",
    "def CashIn_Tranfer_Deposit(MSISDN,MSISDN_NAME,Amount):\n",
    "  import requests as rq\n",
    "  from datetime import datetime, timedelta\n",
    "  import traceback\n",
    "  import uuid\n",
    "  global CashIn_Request_Ref_ID \n",
    "  Token_Status()\n",
    "  Check_BasicInfo_KYC(MSISDN,MSISDN_NAME)# Function that Validates the Names of the Customer(Receiving Party)\n",
    "  if(Proceed==True):\n",
    "    CashIn_Request_Ref_ID   = str(uuid.uuid4())  \n",
    "    url = Base_Url+\"/disbursement/v1_0/deposit\"\n",
    "    headers = {\n",
    "      \"X-Reference-Id\": CashIn_Request_Ref_ID , #Unique for every request, used to validate status of the request. \n",
    "      \"X-Target-Environment\": Environment,\n",
    "      \"Ocp-Apim-Subscription-Key\": Disbursement_Subscription_Primary_Key ,\n",
    "      \"Authorization\":\"Bearer \"+Token, #Avoid creating new tokens for every request,  track the Expiry \n",
    "      \"Content-Type\": \"application/json\",\n",
    "      \"X-Callback-Url\":\"https://webhook.site/mycallback/site\"### You can add X-Callback-Url to receive the callback  (\"X-Callback-Url\":\"https://webhook.com/mysite/status\")\n",
    "    }\n",
    "    body = {    \n",
    "      \"amount\": Amount,\n",
    "      \"currency\": \"EUR\", #use the currency as EUR in the SandBox\n",
    "      \"externalId\": str(uuid.uuid1()), #Used for Reconciliation between application and MoMo platform. \n",
    "      \"payee\": {\n",
    "      \"partyIdType\": \"MSISDN\",#EMAIL and ALIAS apply as well \n",
    "      \"partyId\": MSISDN\n",
    "    },\n",
    "      \"payerMessage\": \"MoMo CashIN API\", #Message sent to the Payer\n",
    "      \"payeeNote\": \"MoMo CashIN API\" #Message Note to the  Payee\n",
    "    }\n",
    "    try:\n",
    "      resp = rq.request(\"post\", url, json=body, headers=headers)\n",
    "      if(str(resp.status_code) == \"202\"):\n",
    "        print(\"CashIn \"+CashIn_Request_Ref_ID+\" to MSISDN \"+MSISDN+\" Amount \"+Amount+\" \"+ \"Response Code \"+str(resp.status_code))\n",
    "        #print(\"Completed\")        \n",
    "      elif (str(resp.status_code) == \"404\"):\n",
    "        print(\"Check The Base_URL \")\n",
    "      elif (str(resp.status_code) == \"400\"):\n",
    "        print(\"Ensure no Special Charters like & in the Message and Notes \\nThe X-Reference-Id in the header should be UUID Versio 4\")\n",
    "        print(resp.text)\n",
    "      elif (str(resp.status_code) == \"500\" or str(resp.json().get(\"message\")).endswith(\"INVALID_CALLBACK_URL_HOST\") or str(resp.json().get(\"message\")).endswith(\"Currency not supported.\")):\n",
    "        print(resp.json())\n",
    "        print(\"Ensure the  URL Host is the same with the one created when generating API_USer function \")\n",
    "        print(\"Verify and validate  Currency for Sand Box is EUR\")\n",
    "      elif (str(resp.status_code) == \"500\" ):\n",
    "        print(resp.text)\n",
    "        print(\"API is not available\")\n",
    "      else:\n",
    "        print(resp.status_code)\n",
    "        print(resp.text)\n",
    "    except TypeError:\n",
    "      print(\"Request Body should be Json Formatted\")\n",
    "    except:\n",
    "      print(\"Something Is Wrong \")\n",
    "      traceback.print_exc()   \n",
    "  else:\n",
    "    print(\"Names do not match\")\n",
    "#Request_Tranfer_Payment(\"56733123453\",\"50000\")"
   ]
  },
  {
   "cell_type": "markdown",
   "metadata": {},
   "source": [
    "### <b>CashIn Deposit Status Function</b>\n",
    "This function checks the status of a cash deposit request. It takes a request ID as input and returns the current status of the request. The status can be one of the following:\n",
    "- 'Pending': The request is still being processed.\n",
    "- 'Approved': The request has been approved and the funds are being transferred.\n",
    "- 'Rejected': The request has been rejected due to insufficient funds or other reasons.\n",
    "- 'Completed': The request has been successfully completed and the funds have been transferred.\n",
    "\n",
    "#### Parameters:\n",
    "- `X_Reference_Id_Of_The_CashIn_Request`: The unique identifier of the cash deposit request.\n",
    "\n",
    "#### Steps:\n",
    "1. The function first checks the token status and renews it if necessary.\n",
    "2. It sends a GET request to the MoMo API with the necessary headers.\n",
    "3. The response is printed, which includes the status and details of the cash deposit request.\n",
    "\n",
    "#### Example Usage:"
   ]
  },
  {
   "cell_type": "code",
   "execution_count": 122,
   "metadata": {},
   "outputs": [],
   "source": [
    "#Check Status CashIn Status\n",
    "def Check_Status_CashIn(X_Reference_Id_Of_The_CashIn_Request):\n",
    "    import requests as rq\n",
    "    import json\n",
    "    import traceback\n",
    "    print(\"Waiting for CashIn  Status\")\n",
    "    countdown(6)\n",
    "    Token_Status()\n",
    "    url = Base_Url+\"/disbursement/v1_0/deposit/\"+X_Reference_Id_Of_The_CashIn_Request\n",
    "    headers = {\n",
    "    \"X-Target-Environment\": Environment,\n",
    "    \"Ocp-Apim-Subscription-Key\": Disbursement_Subscription_Primary_Key,\n",
    "    \"Authorization\":\"Bearer \"+Token,\n",
    "    }\n",
    "    try:\n",
    "        resp = rq.request(\"get\", url,headers=headers)\n",
    "        Status_Json = resp.json()\n",
    "        Status_Json_DD = str(Status_Json).replace('\\'', '\"')\n",
    "        print(Status_Json)        \n",
    "    except:\n",
    "        print(\"Something Is Wrong \")\n",
    "        traceback.print_exc()       \n",
    "    #print(Status_Json)\n",
    "    \n",
    "#Check_Status_CashIn(\"Check_Status_Transfer\")"
   ]
  },
  {
   "cell_type": "markdown",
   "metadata": {},
   "source": [
    "### <b>CashOut Request To Withdraw Function</b>\n",
    "\n",
    "\n",
    "This function initiates a CashOut request from a customer's wallet to a business. The business will then send the cash to the customer. The function sends a POST request to the MoMo API to initiate the CashOut request.\n",
    "\n",
    "#### Parameters:\n",
    "- `MSISDN`: The MSISDN (phone number) of the customer who is requesting the CashOut.\n",
    "- `Amount`: The amount to be withdrawn.\n",
    "\n",
    "#### Steps:\n",
    "1. The function first checks the token status and renews it if necessary.\n",
    "2. It generates a new unique reference ID for the CashOut request.\n",
    "3. It sends a POST request to the MoMo API with the necessary headers and body.\n",
    "4. The response status code is printed to indicate whether the CashOut request was successful or not.\n",
    "\n",
    "#### Example Usage:"
   ]
  },
  {
   "cell_type": "code",
   "execution_count": 129,
   "metadata": {},
   "outputs": [],
   "source": [
    "#Function that initiates a CashOut Withdraw from Customer Wallet to a Bussiness\n",
    "#In return the Business will send the Cash to the Customer\n",
    "def Request_CashOut_Withdraw(MSISDN,Amount):\n",
    "  import requests as rq\n",
    "  from datetime import datetime, timedelta\n",
    "  import traceback\n",
    "  import uuid\n",
    "  global CashOut_Request_Ref_ID\n",
    "  Token_Status()\n",
    "  CashOut_Request_Ref_ID = str(uuid.uuid4())\n",
    "  url = Base_Url+\"/collection/v1_0/requesttowithdraw\"\n",
    "  headers = {\n",
    "    \"X-Reference-Id\": CashOut_Request_Ref_ID, #Unique for every request, used to validate status of the request. \n",
    "    \"X-Target-Environment\": Environment,\n",
    "    \"Ocp-Apim-Subscription-Key\": Collection_Subscription_Primary_Key,\n",
    "    \"Authorization\":\"Bearer \"+Token, #Avoid creating new tokens for every request,  track the Expiry \n",
    "    \"Content-Type\": \"application/json\",\n",
    "    \"X-Callback-Url\":\"https://webhook.site/mycallback/site\"### You can add X-Callback-Url to receive the callback  (\"X-Callback-Url\":\"https://webhook.com/mysite/status\")\n",
    "  }\n",
    "  body = {    \n",
    "    \"amount\": Amount,\n",
    "    \"currency\": \"EUR\", #use the currency as EUR in the SandBox\n",
    "    \"externalId\": str(uuid.uuid1()), #Used for Reconciliation between application and MoMo platform. \n",
    "    \"payer\": {\n",
    "      \"partyIdType\": \"MSISDN\",#EMAIL and ALIAS apply as well \n",
    "      \"partyId\": MSISDN\n",
    "  },\n",
    "    \"payerMessage\": \"MoMo CashOut API\", #Message sent to the Payer\n",
    "    \"payeeNote\": \"MoMo CashOut API\" #Message Note to the  Payee\n",
    "  }\n",
    "  try:\n",
    "    resp = rq.request(\"post\", url, json=body, headers=headers)\n",
    "    if(str(resp.status_code) == \"202\"):\n",
    "      print(\"CashOut Withdraw request from MSISDN \"+MSISDN+\" Amount \"+Amount+\" \"+ \"Response Code \"+str(resp.status_code))\n",
    "\n",
    "    elif (str(resp.status_code) == \"404\"):\n",
    "      print(\"Check The Base_URL \")\n",
    "    elif (str(resp.status_code) == \"400\"):\n",
    "      print(\"Ensure no Special Charters like & in the Message and Notes \\nThe X-Reference-Id in the header should be UUID Versio 4\")\n",
    "      print(resp.text)\n",
    "    elif (str(resp.status_code) == \"500\" or str(resp.json().get(\"message\")).endswith(\"INVALID_CALLBACK_URL_HOST\") or str(resp.json().get(\"message\")).endswith(\"Currency not supported.\")):\n",
    "      print(resp.json())\n",
    "      print(\"Ensure the  URL Host is the same with the one created when generating API_USer function \")\n",
    "      print(\"Verify and validate  Currency for Sand Box is EUR\")\n",
    "    elif (str(resp.status_code) == \"500\" ):\n",
    "      print(resp.text)\n",
    "      print(\"API is not available\")\n",
    "    else:\n",
    "      print(resp.status_code)\n",
    "      print(resp.text)\n",
    "  except TypeError:\n",
    "    print(\"Request Body should be Json Formatted\")\n",
    "  except:\n",
    "    print(\"Something Is Wrong \")\n",
    "    traceback.print_exc()   \n",
    "#Request_Debit_Payment(\"56733123453\",\"50000\")"
   ]
  },
  {
   "cell_type": "markdown",
   "metadata": {},
   "source": [
    "### <b>CashOut Request Status Function</b>\n",
    "\n",
    "\n",
    "This function checks the status of a cash-out request. It takes a request ID as input and returns the current status of the request. The status can be one of the following:\n",
    "- 'Pending': The request is still being processed.\n",
    "- 'Approved': The request has been approved and the funds are being transferred.\n",
    "- 'Rejected': The request has been rejected due to insufficient funds or other reasons.\n",
    "- 'Completed': The request has been successfully completed and the funds have been transferred.\n",
    "\n",
    "Parameters:\n",
    "    request_id (str): The unique identifier of the cash-out request.\n",
    "\n",
    "Returns:\n",
    "    str: The current status of the cash-out request.\n"
   ]
  },
  {
   "cell_type": "code",
   "execution_count": 131,
   "metadata": {},
   "outputs": [],
   "source": [
    "#Check CashOut Status \n",
    "def Check_CashOut_Status(X_Reference_Id_Of_The_CashOut_Request):\n",
    "    import requests as rq\n",
    "    import json\n",
    "    import traceback\n",
    "    print(\"Waiting for CashOut Status\")\n",
    "    countdown(6)\n",
    "    Token_Status()\n",
    "    global CashOut_Status\n",
    "    url = Base_Url+\"/collection/v1_0/requesttowithdraw/\"+X_Reference_Id_Of_The_CashOut_Request\n",
    "    headers = {\n",
    "    \"X-Target-Environment\": Environment,\n",
    "    \"Ocp-Apim-Subscription-Key\": Collection_Subscription_Primary_Key,\n",
    "    \"Authorization\":\"Bearer \"+Token,\n",
    "    }\n",
    "    try:\n",
    "        resp = rq.request(\"get\", url,headers=headers)\n",
    "        Status_Json = resp.json()\n",
    "        #Status_Json_DD = str(Status_Json).replace('\\'', '\"')\n",
    "        #CashOut_Status = Status_Json.get('status')\n",
    "        print(str(Status_Json))\n",
    "        \n",
    "    except:\n",
    "        print(\"Something Is Wrong \")\n",
    "        traceback.print_exc()       \n",
    "    #print(Status_Json)\n",
    "    \n",
    "#Check_Status(\"\")"
   ]
  },
  {
   "cell_type": "markdown",
   "metadata": {},
   "source": [
    "#### <b>Test CashIn and CashOut Functions</b> \n",
    "<b>Note: Responses with partyId as the MSISDN</b>\n",
    "|  partyId | Response status \n",
    "| --- | --- | \n",
    "46733123450\t|Failed\n",
    "46733123451\t|Rejected\n",
    "46733123452\t|Timeout\n",
    "56733123453\t|Success\n",
    "46733123454\t|Pending"
   ]
  },
  {
   "cell_type": "markdown",
   "metadata": {},
   "source": [
    "##### <b>Test CashIn  Functions</b> "
   ]
  },
  {
   "cell_type": "code",
   "execution_count": null,
   "metadata": {},
   "outputs": [
    {
     "name": "stdout",
     "output_type": "stream",
     "text": [
      "CashIn f216d64b-d94c-4e7f-bf61-47c5ca4a9f8a to MSISDN 56733123453 Amount 50089 Response Code 202\n",
      "Waiting for CashIn  Status\n",
      "6:5:4:3:2:1:0\n",
      "{'externalId': '531b9e4b-9f72-11ef-8892-00155d27efc1', 'amount': '50089', 'currency': 'EUR', 'payee': {'partyIdType': 'MSISDN', 'partyId': '56733123453'}, 'payerMessage': 'MoMo CashIN API', 'payeeNote': 'MoMo CashIN API', 'status': 'SUCCESSFUL'}\n"
     ]
    }
   ],
   "source": [
    "#Function to initiate a CashIn from Business Wallet to Customer Wallet\n",
    "#Function validates Customer Names before initiating the CashIn(SandBox names are reversed)\n",
    "CashIn_Tranfer_Deposit(\"56733123453\",\"SAND BOX\",\"50089\") \n",
    "#Function to check CashIn Status after 6 seconds\n",
    "Check_Status_CashIn(CashIn_Request_Ref_ID)\n",
    "\n"
   ]
  },
  {
   "cell_type": "markdown",
   "metadata": {},
   "source": [
    "##### <b>Test  CashOut Functions</b> "
   ]
  },
  {
   "cell_type": "code",
   "execution_count": 132,
   "metadata": {},
   "outputs": [
    {
     "name": "stdout",
     "output_type": "stream",
     "text": [
      "CashOut Withdraw request from MSISDN 56733123453 Amount 5000000 Response Code 202\n",
      "Waiting for CashOut Status\n",
      "6:5:4:3:2:1:0\n",
      "{'financialTransactionId': '1324065705', 'externalId': 'b032c415-9f75-11ef-8018-00155d27efc1', 'amount': '5000000', 'currency': 'EUR', 'payer': {'partyIdType': 'MSISDN', 'partyId': '56733123453'}, 'payerMessage': 'MoMo CashOut API', 'payeeNote': 'MoMo CashOut API', 'status': 'SUCCESSFUL'}\n"
     ]
    }
   ],
   "source": [
    "Request_CashOut_Withdraw(\"56733123453\",\"5000000\")\n",
    "Check_CashOut_Status(CashOut_Request_Ref_ID)"
   ]
  },
  {
   "cell_type": "markdown",
   "metadata": {},
   "source": [
    "## <b>Invoice</b>"
   ]
  },
  {
   "cell_type": "markdown",
   "metadata": {},
   "source": [
    "1. [Create Invoice](#create-invoice)\n",
    "2. [Check Invoice Status](#check-invoice-status)\n",
    "3. [Cancel Invoice Request](#cancel-invoice-request)\n",
    "4. [Test Invoice Functions](#test-invoice-functions)"
   ]
  },
  {
   "cell_type": "markdown",
   "metadata": {},
   "source": [
    "### <b>Create Invoice</b>\n",
    "This function initiates the creation of an invoice using the MoMo API. It sends a POST request to the MoMo API to create an invoice for a specified amount, intended payer, and payee.\n",
    "\n",
    "#### Parameters:\n",
    "- `intended_MSISDN`: The MSISDN (phone number) of the customer who is intended to pay the invoice.\n",
    "- `MSISDN_Payee`: The MSISDN (phone number) of the payee who will receive the payment.\n",
    "- `Amount`: The amount to be invoiced.\n",
    "\n",
    "#### Steps:\n",
    "1. The function first checks the token status and renews it if necessary.\n",
    "2. It generates a new unique reference ID for the invoice request.\n",
    "3. It sends a POST request to the MoMo API with the necessary headers and body.\n",
    "4. The response status code is printed to indicate whether the invoice creation was successful or not.\n",
    "\n",
    "#### Example Usage:"
   ]
  },
  {
   "cell_type": "code",
   "execution_count": 152,
   "metadata": {},
   "outputs": [],
   "source": [
    "#Function that initiates a CashOut Withdraw from Customer Wallet to a Bussiness\n",
    "#In return the Business will send the Cash to the Customer\n",
    "def Request_Create_Invoice(intended_MSISDN,MSISDN_Payee,Amount):\n",
    "  import requests as rq\n",
    "  from datetime import datetime, timedelta\n",
    "  import traceback\n",
    "  import uuid\n",
    "  global Invoice_Request_Ref_ID\n",
    "  Token_Status()\n",
    "  Invoice_Request_Ref_ID = str(uuid.uuid4())\n",
    "  url = Base_Url+\"/collection/v2_0/invoice\"\n",
    "  headers = {\n",
    "    \"X-Reference-Id\": Invoice_Request_Ref_ID, #Unique for every request, used to validate status of the request. \n",
    "    \"X-Target-Environment\": Environment,\n",
    "    \"Ocp-Apim-Subscription-Key\": Collection_Subscription_Primary_Key,\n",
    "    \"Authorization\":\"Bearer \"+Token, #Avoid creating new tokens for every request,  track the Expiry \n",
    "    \"Content-Type\": \"application/json\",\n",
    "    \"X-Callback-Url\":\"https://webhook.site/mycallback/site\"# You can add X-Callback-Url to receive the callback  (\"X-Callback-Url\":\"https://webhook.com/mysite/status\")\n",
    "  }\n",
    "  body = {    \n",
    "    \"amount\": Amount,\n",
    "    \"currency\": \"EUR\", #use the currency as EUR in the SandBox\n",
    "    \"externalId\": str(uuid.uuid1()), #Used for Reconciliation between application and MoMo platform. \n",
    "    \"validityDuration\": \"360\", #Duration in seconds before the Invoice expires in Seconds\n",
    "    \"intendedPayer\": { #Customer who will pay the Invoice thou not not medentory \n",
    "      \"partyIdType\": \"MSISDN\",#EMAIL and ALIAS apply as well \n",
    "      \"partyId\": intended_MSISDN\n",
    "  },\n",
    "  \"payee\": {\n",
    "        \"partyIdType\": \"MSISDN\",\n",
    "        \"partyId\": MSISDN_Payee\n",
    "    },\n",
    "    \"description\": \"MoMo Invoice API\", #Message sent to the Payer\n",
    "   \n",
    "  }\n",
    "  try:\n",
    "    resp = rq.request(\"post\", url, json=body, headers=headers)\n",
    "    if(str(resp.status_code) == \"202\"):\n",
    "      print(\"Invoice No \"+Invoice_Request_Ref_ID+\" Amount \"+Amount+\" \"+ \"Created  Code \"+str(resp.status_code))\n",
    "\n",
    "    elif (str(resp.status_code) == \"404\"):\n",
    "      print(\"Check The Base_URL \")\n",
    "    elif (str(resp.status_code) == \"400\"):\n",
    "      print(\"Ensure no Special Charters like & in the Message and Notes \\nThe X-Reference-Id in the header should be UUID Versio 4\")\n",
    "      print(resp.text)\n",
    "    elif (str(resp.status_code) == \"500\" or str(resp.json().get(\"message\")).endswith(\"INVALID_CALLBACK_URL_HOST\") or str(resp.json().get(\"message\")).endswith(\"Currency not supported.\")):\n",
    "      print(resp.json())\n",
    "      print(\"Ensure the  URL Host is the same with the one created when generating API_USer function \")\n",
    "      print(\"Verify and validate  Currency for Sand Box is EUR\")\n",
    "    elif (str(resp.status_code) == \"500\" ):\n",
    "      print(resp.text)\n",
    "      print(\"API is not available\")\n",
    "    else:\n",
    "      print(resp.status_code)\n",
    "      print(resp.text)\n",
    "  except TypeError:\n",
    "    print(\"Request Body should be Json Formatted\")\n",
    "  except:\n",
    "    print(\"Something Is Wrong \")\n",
    "    traceback.print_exc()   \n",
    "#Request_Create_Invoice(\"5677876667\",\"5678399378\",\"700000\")"
   ]
  },
  {
   "cell_type": "markdown",
   "metadata": {},
   "source": [
    "### <b>Check Invoice Status</b>\n",
    "This function checks the status of an invoice that was previously created. It sends a GET request to the MoMo API to retrieve the status and details of the invoice associated with the provided reference ID.\n",
    "\n",
    "#### Parameters:\n",
    "- `X_Reference_Id_Of_The_Invoice_Request`: The unique reference ID of the invoice request whose status you want to check.\n",
    "\n",
    "#### Steps:\n",
    "1. The function first checks the token status and renews it if necessary.\n",
    "2. It sends a GET request to the MoMo API with the necessary headers.\n",
    "3. The response is printed, which includes the status and details of the invoice.\n",
    "\n",
    "#### Example Usage:"
   ]
  },
  {
   "cell_type": "code",
   "execution_count": 153,
   "metadata": {},
   "outputs": [],
   "source": [
    "#Check Invoice Status \n",
    "#Function not only checks the status of the invoice and fetch details like invoice number\n",
    "def Check_Invoice_Status(X_Reference_Id_Of_The_Invoice_Request):\n",
    "    import requests as rq\n",
    "    import json\n",
    "    import traceback\n",
    "    print(\"Waiting for Invoice Status\")\n",
    "    countdown(6)\n",
    "    Token_Status()\n",
    "    \n",
    "    url = Base_Url+\"/collection/v2_0/invoice/\"+X_Reference_Id_Of_The_Invoice_Request\n",
    "    headers = {\n",
    "    \n",
    "    \"X-Target-Environment\": Environment,\n",
    "    \"Ocp-Apim-Subscription-Key\": Collection_Subscription_Primary_Key,\n",
    "    \"Authorization\":\"Bearer \"+Token,\n",
    "    }\n",
    "    try:\n",
    "        resp = rq.request(\"get\", url,headers=headers)\n",
    "        Status_Json = resp.json()\n",
    "        #Status_Json_DD = str(Status_Json).replace('\\'', '\"')\n",
    "        \n",
    "        print(str(Status_Json))\n",
    "        \n",
    "    except:\n",
    "        print(\"Something Is Wrong \")\n",
    "        traceback.print_exc()       \n",
    "    #print(Status_Json)\n",
    "    \n",
    "#Check_Invoice_Status(Invoice_Request_Ref_ID)"
   ]
  },
  {
   "cell_type": "markdown",
   "metadata": {},
   "source": [
    "### <b>Cancel Invoice Request</b>\n",
    "\n",
    "This function allows you to cancel an invoice that was previously created. The function sends a DELETE request to the MoMo API to cancel the invoice associated with the provided reference ID. \n",
    "\n",
    "#### Parameters:\n",
    "- `X_Reference_Id_Of_The_Invoice_Request`: The unique reference ID of the invoice request that you want to cancel.\n",
    "\n",
    "#### Steps:\n",
    "1. The function first checks the token status and renews it if necessary.\n",
    "2. It generates a new unique reference ID for the delete request.\n",
    "3. It sends a DELETE request to the MoMo API with the necessary headers and body.\n",
    "4. The response status code is printed to indicate whether the cancellation was successful or not.\n",
    "\n",
    "#### Example Usage:"
   ]
  },
  {
   "cell_type": "code",
   "execution_count": 156,
   "metadata": {},
   "outputs": [],
   "source": [
    "#Delete Invoice Status \n",
    "#Function Delete Invoice\n",
    "def Delete_Invoice_request(X_Reference_Id_Of_The_Invoice_Request):\n",
    "    import requests as rq\n",
    "    import uuid\n",
    "    import traceback\n",
    "    global Invoice_Delete_Request_Ref_ID, Invoice_Request_Ref_ID\n",
    "    Token_Status()\n",
    "    Invoice_Delete_Request_Ref_ID = str(uuid.uuid4())\n",
    "    url = Base_Url+\"/collection/v2_0/invoice/\"+X_Reference_Id_Of_The_Invoice_Request\n",
    "    headers = {\n",
    "    \"X-Reference-Id\": Invoice_Delete_Request_Ref_ID,\n",
    "    \"X-Target-Environment\": Environment,\n",
    "    \"Ocp-Apim-Subscription-Key\": Collection_Subscription_Primary_Key,\n",
    "    \"Authorization\":\"Bearer \"+Token\n",
    "    }\n",
    "    body = {    \n",
    "    \"externalId\": str(uuid.uuid1())}\n",
    "    try:\n",
    "        resp = rq.request(\"delete\", url,json=body,headers=headers)\n",
    "        #Status_Json = resp.json()\n",
    "        #Status_Json_DD = str(Status_Json).replace('\\'', '\"')        \n",
    "        print(resp.status_code)\n",
    "        \n",
    "    except:\n",
    "        print(\"Something Is Wrong \")\n",
    "        traceback.print_exc()       \n",
    "    #print(Status_Json)\n",
    "    \n",
    "#Delete_Invoice_request(Invoice_Request_Ref_ID)"
   ]
  },
  {
   "cell_type": "markdown",
   "metadata": {},
   "source": [
    "#### <b>Test Invoice  Functions</b> \n",
    "<b>Note: Responses with partyId as the MSISDN</b>\n",
    "|  partyId | Response status \n",
    "| --- | --- | \n",
    "46733123450\t|Failed\n",
    "46733123451\t|Rejected\n",
    "46733123452\t|Timeout\n",
    "56733123453\t|Success\n",
    "46733123454\t|Pending"
   ]
  },
  {
   "cell_type": "code",
   "execution_count": 157,
   "metadata": {},
   "outputs": [
    {
     "name": "stdout",
     "output_type": "stream",
     "text": [
      "Invoice No f0f7a85e-3dc3-432f-bb6e-ade8c255a399 Amount 700000 Created  Code 202\n",
      "Waiting for Invoice Status\n",
      "6:5:4:3:2:1:0\n",
      "{'referenceId': 'f0f7a85e-3dc3-432f-bb6e-ade8c255a399', 'externalId': '787344bd-9f89-11ef-b8a7-00155d27efc1', 'amount': '700000', 'currency': 'EUR', 'status': 'SUCCESSFUL', 'paymentReference': '1165387997', 'invoiceId': '1308629355', 'expiryDateTime': '2024-11-10T17:36:25.698', 'intendedPayer': {'partyIdType': 'MSISDN', 'partyId': '5677876667'}, 'description': 'MoMo Invoice API'}\n",
      "202\n"
     ]
    }
   ],
   "source": [
    "Request_Create_Invoice(\"5677876667\",\"5678399378\",\"700000\")\n",
    "Check_Invoice_Status(Invoice_Request_Ref_ID)\n",
    "Delete_Invoice_request(Invoice_Request_Ref_ID)"
   ]
  }
 ],
 "metadata": {
  "kernelspec": {
   "display_name": "base",
   "language": "python",
   "name": "python3"
  },
  "language_info": {
   "codemirror_mode": {
    "name": "ipython",
    "version": 3
   },
   "file_extension": ".py",
   "mimetype": "text/x-python",
   "name": "python",
   "nbconvert_exporter": "python",
   "pygments_lexer": "ipython3",
   "version": "3.9.12"
  }
 },
 "nbformat": 4,
 "nbformat_minor": 2
}
